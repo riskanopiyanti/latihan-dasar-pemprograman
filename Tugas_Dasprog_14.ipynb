{
  "nbformat": 4,
  "nbformat_minor": 0,
  "metadata": {
    "colab": {
      "provenance": [],
      "authorship_tag": "ABX9TyNRCJhtR+bPsZKK3G0QR70I",
      "include_colab_link": true
    },
    "kernelspec": {
      "name": "python3",
      "display_name": "Python 3"
    },
    "language_info": {
      "name": "python"
    }
  },
  "cells": [
    {
      "cell_type": "markdown",
      "metadata": {
        "id": "view-in-github",
        "colab_type": "text"
      },
      "source": [
        "<a href=\"https://colab.research.google.com/github/riskanopiyanti/latihan-dasar-pemprograman/blob/main/Tugas_Dasprog_14.ipynb\" target=\"_parent\"><img src=\"https://colab.research.google.com/assets/colab-badge.svg\" alt=\"Open In Colab\"/></a>"
      ]
    },
    {
      "cell_type": "code",
      "execution_count": null,
      "metadata": {
        "colab": {
          "base_uri": "https://localhost:8080/"
        },
        "id": "AacuwA2MbIX1",
        "outputId": "e095e0ff-9e9a-421c-93b2-d275f792aec9"
      },
      "outputs": [
        {
          "output_type": "stream",
          "name": "stdout",
          "text": [
            "========= Warung Makan Piring Besar =========\n",
            "Nama Pembeli: Riska Nopiyanti \n",
            "\n",
            "==========MENU MAKANAN===========\n",
            "1. Nasi Goreng - Rp.13.000,00\n",
            "2. Nasi Ayam Geprek - Rp.10.000,00\n",
            "3. Nasi Padang - Rp.15.000,00\n",
            "masukkan pilihan 1/2/3 : 3\n",
            "masukkan posrsi : 1\n",
            "1 Nasi Padang - Rp. 15000\n",
            "\n",
            "==========MENU MINUMAN==========\n",
            "1. Es Jeruk - Rp.5000,00\n",
            "2. Es Teh Manis - Rp.3000,00\n",
            "3. Jus Mangga - Rp.8000,00\n",
            "masukkan pilihan 1/2/3 : 1\n",
            "berapa gelas : 1\n",
            "1 Es jeruk - Rp. 5000\n",
            "\n",
            "Total yang harus anda bayar : Rp. 20000\n",
            "masukkan uang anda : RP.50000\n",
            "kembalian :  30000\n",
            "nota telah disimpan\n"
          ]
        }
      ],
      "source": [
        "print (\"========= Warung Makan Piring Besar =========\")\n",
        "pembeli = input(\"Nama Pembeli: \")\n",
        "\n",
        "def makanan():\n",
        "    global totalmakanan\n",
        "    global porsi\n",
        "    global makanan\n",
        "    print(\"\\n==========MENU MAKANAN===========\")\n",
        "    print(\"1. Nasi Goreng - Rp.13.000,00\")\n",
        "    print(\"2. Nasi Ayam Geprek - Rp.10.000,00\")\n",
        "    print(\"3. Nasi Padang - Rp.15.000,00\")\n",
        "    fx = int(input(\"masukkan pilihan 1/2/3 : \"))\n",
        "    porsi = int(input(\"masukkan posrsi : \"))\n",
        "\n",
        "    if fx == 1:\n",
        "        totalmakanan = porsi * 13000\n",
        "        print(porsi, \"Nasi Goreng - Rp.\", totalmakanan)\n",
        "        makanan = (\"Nasi Goreng\")\n",
        "    elif fx == 2:\n",
        "        totalmakanan = porsi * 10000\n",
        "        print(porsi, \"Nasi Ayam Geprek - Rp.\", totalmakanan)\n",
        "        makanan = (\"Nasi Ayam Geprek\")\n",
        "    elif fx == 3:\n",
        "        totalmakanan = porsi * 15000\n",
        "        print(porsi, \"Nasi Padang - Rp.\", totalmakanan)\n",
        "        makanan = (\"Nasi Padang\")\n",
        "    else:\n",
        "        print(\"Pilihan anda tidak ada dalam daftar menu\\nSilahkan pilih kembali!!\")\n",
        "        makanan()\n",
        "\n",
        "def minuman():\n",
        "    global totalminuman\n",
        "    global gelas\n",
        "    global minum\n",
        "    print(\"\\n==========MENU MINUMAN==========\")\n",
        "    print(\"1. Es Jeruk - Rp.5000,00\")\n",
        "    print(\"2. Es Teh Manis - Rp.3000,00\")\n",
        "    print(\"3. Jus Mangga - Rp.8000,00\")\n",
        "    fx = int(input(\"masukkan pilihan 1/2/3 : \"))\n",
        "    gelas = int(input(\"berapa gelas : \"))\n",
        "\n",
        "    if fx == 1:\n",
        "        totalminuman = gelas * 5000\n",
        "        print(gelas, \"Es jeruk - Rp.\", totalminuman)\n",
        "        minum = (\"Es Jeruk\")\n",
        "    elif fx == 2:\n",
        "        totalminuman = gelas * 3000\n",
        "        print(gelas, \"Es Teh Manis - Rp.\", totalminuman)\n",
        "        minum = (\"Es Teh Manis\")\n",
        "    elif fx == 3:\n",
        "        totalminuman = gelas * 8000\n",
        "        print(gelas, \"Jus Mangga - Rp.\", totalminuman)\n",
        "        minum = (\"Jus Mangga\")\n",
        "    else:\n",
        "        print(\"Pilihan anda tidak ada dalam daftar menu\\nSilahkan pilih kembali!!\")\n",
        "        minuman()\n",
        "\n",
        "makanan()\n",
        "minuman()\n",
        "total_semua = totalmakanan + totalminuman\n",
        "\n",
        "print(\"\\nTotal yang harus anda bayar : Rp.\", total_semua)\n",
        "uang = int(input(\"masukkan uang anda : RP.\"))\n",
        "kembalian = int(uang - total_semua)\n",
        "print(\"kembalian : \", kembalian)\n",
        "\n",
        "f = open(\"nota.txt\",\"w\")\n",
        "f.write(\"==========S T R U K P E M B E L I A N==========\" + \"\\n\")\n",
        "f.write(\"Nama : \" + (pembeli) + \"\\n\")\n",
        "f.write(\"Beli : \" + str(porsi) + str(makanan) + \"(Rp.\" + str(totalmakanan) + \")\" + \"\\n\")\n",
        "f.write(\"Beli : \" + str(gelas) + str(minum) + \"(Rp.\" + str(totalminuman) + \")\" + \"\\n\")\n",
        "f.write(\"Tagihan : Rp.\" + str(total_semua) + \"\\n\")\n",
        "f.write(\"Dibayar : Rp.\" + str(uang) + \"\\n\")\n",
        "f.write(\"Kembalian : Rp.\" + str(kembalian) + \"\\n\")\n",
        "f.write(\"===============================================\" + \"\\n\")\n",
        "f.close()\n",
        "\n",
        "print(\"nota telah disimpan\")"
      ]
    }
  ]
}