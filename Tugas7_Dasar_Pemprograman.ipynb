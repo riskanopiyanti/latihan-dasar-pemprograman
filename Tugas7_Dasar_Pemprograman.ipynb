{
  "nbformat": 4,
  "nbformat_minor": 0,
  "metadata": {
    "colab": {
      "provenance": [],
      "collapsed_sections": [],
      "authorship_tag": "ABX9TyNl91QVpVdGO7XBzsVAs/cu",
      "include_colab_link": true
    },
    "kernelspec": {
      "name": "python3",
      "display_name": "Python 3"
    },
    "language_info": {
      "name": "python"
    }
  },
  "cells": [
    {
      "cell_type": "markdown",
      "metadata": {
        "id": "view-in-github",
        "colab_type": "text"
      },
      "source": [
        "<a href=\"https://colab.research.google.com/github/riskanopiyanti/latihan-dasar-pemprograman/blob/main/Tugas7_Dasar_Pemprograman.ipynb\" target=\"_parent\"><img src=\"https://colab.research.google.com/assets/colab-badge.svg\" alt=\"Open In Colab\"/></a>"
      ]
    },
    {
      "cell_type": "code",
      "source": [],
      "metadata": {
        "id": "HQ3lKHu6ms7t"
      },
      "execution_count": null,
      "outputs": []
    },
    {
      "cell_type": "code",
      "source": [
        "print(\" Program Kalkulator Sederhana \".center(50,\"=\"))\n",
        "print(\" Riska Nopiyanti \".center(50,\"=\"))\n",
        "loop = True\n",
        "while(loop):\n",
        "    print('''\n",
        "menu:\n",
        "[1] Menghitung Luas Segitiga\n",
        "[2] Menghitung Luas Persegi Panjang\n",
        "[3] Menentukan Nomor Ganjil/Genap\n",
        "[4] Quit\n",
        "     ''')\n",
        "    y = str(input(\"masukkan pilihan anda: \"))\n",
        "    if y == \"1\":\n",
        "        alas = float(input(\"masukkan alas segitiga: \"))\n",
        "        tinggi = float(input(\"masukkan tinggi segitiga: \"))\n",
        "        luas = 0.5 * alas * tinggi\n",
        "        print(\"luas segitiga: \", luas)\n",
        "    elif y == \"2\":\n",
        "        panjang = float(input(\"masukkan panjang persegi panjang: \"))\n",
        "        lebar = float(input(\"masukkan lebar persegi panjang: \"))\n",
        "        luas = panjang * lebar\n",
        "        print(\"luas persegi panjang: \", luas)\n",
        "    elif y == \"3\":\n",
        "        bil = int(input(\"masukkan bilangan; \"))\n",
        "        if bil % 2 == 0:\n",
        "            print(\" %d merupakan bilangan genap\" % bil)\n",
        "        else:\n",
        "            print(\" %d merupakan bilangan ganjil\" % bil)\n",
        "    elif y == \"4\":\n",
        "        quit = input(\"\\nApakah Kamu Ingin Keluar (y/n) : \")\n",
        "        if quit == 'y':\n",
        "            print(\"Terima Kasih Karena Telah Menggunakan Program ini\")\n",
        "            break"
      ],
      "metadata": {
        "colab": {
          "base_uri": "https://localhost:8080/"
        },
        "outputId": "13a85085-9a14-4978-8734-1c7e11e9cf6c",
        "id": "YuYfxDl2Xjar"
      },
      "execution_count": 1,
      "outputs": [
        {
          "output_type": "stream",
          "name": "stdout",
          "text": [
            "========== Program Kalkulator Sederhana ==========\n",
            "================ Riska Nopiyanti =================\n",
            "\n",
            "menu:\n",
            "[1] Menghitung Luas Segitiga\n",
            "[2] Menghitung Luas Persegi Panjang\n",
            "[3] Menentukan Nomor Ganjil/Genap\n",
            "[4] Quit\n",
            "     \n",
            "masukkan pilihan anda: 1\n",
            "masukkan alas segitiga: 10\n",
            "masukkan tinggi segitiga: 12\n",
            "luas segitiga:  60.0\n",
            "\n",
            "menu:\n",
            "[1] Menghitung Luas Segitiga\n",
            "[2] Menghitung Luas Persegi Panjang\n",
            "[3] Menentukan Nomor Ganjil/Genap\n",
            "[4] Quit\n",
            "     \n",
            "masukkan pilihan anda: 2\n",
            "masukkan panjang persegi panjang: 10\n",
            "masukkan lebar persegi panjang: 5\n",
            "luas persegi panjang:  50.0\n",
            "\n",
            "menu:\n",
            "[1] Menghitung Luas Segitiga\n",
            "[2] Menghitung Luas Persegi Panjang\n",
            "[3] Menentukan Nomor Ganjil/Genap\n",
            "[4] Quit\n",
            "     \n",
            "masukkan pilihan anda: 3\n",
            "masukkan bilangan; 10\n",
            " 10 merupakan bilangan genap\n",
            "\n",
            "menu:\n",
            "[1] Menghitung Luas Segitiga\n",
            "[2] Menghitung Luas Persegi Panjang\n",
            "[3] Menentukan Nomor Ganjil/Genap\n",
            "[4] Quit\n",
            "     \n",
            "masukkan pilihan anda: 3\n",
            "masukkan bilangan; 5\n",
            " 5 merupakan bilangan ganjil\n",
            "\n",
            "menu:\n",
            "[1] Menghitung Luas Segitiga\n",
            "[2] Menghitung Luas Persegi Panjang\n",
            "[3] Menentukan Nomor Ganjil/Genap\n",
            "[4] Quit\n",
            "     \n",
            "masukkan pilihan anda: 4\n",
            "\n",
            "Apakah Kamu Ingin Keluar (y/n) : y\n",
            "Terima Kasih Karena Telah Menggunakan Program ini\n"
          ]
        }
      ]
    }
  ]
}