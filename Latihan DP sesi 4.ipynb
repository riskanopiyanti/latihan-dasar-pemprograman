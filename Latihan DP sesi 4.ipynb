{
 "cells": [
  {
   "cell_type": "code",
   "execution_count": 1,
   "id": "8b16080b",
   "metadata": {},
   "outputs": [
    {
     "name": "stdout",
     "output_type": "stream",
     "text": [
      "x = 16 = 00010000\n",
      "y = 32 = 00100000\n",
      "[and]\n",
      "x & y = 0\n",
      "00010000 ^ 00100000 = 00000000\n",
      "[or]\n",
      "x | y = 48\n",
      "00010000 | 00100000 = 00110000\n",
      "[not]\n",
      "~x ~y = -17 -33\n",
      "~00010000 ~-0010001 = -0100001\n"
     ]
    }
   ],
   "source": [
    "x = 16\n",
    "y = 32\n",
    "\n",
    "print('x =', x, '=', format(x,'08b'))\n",
    "print('y =', y, '=', format(y,'08b'))\n",
    "\n",
    "#operatorlogika AND\n",
    "print('[and]')\n",
    "print('x & y =', x & y)\n",
    "print(format(x,'08b'),'^', format(y,'08b'),'=', format(x & y, '08b'))\n",
    "\n",
    "#operatorlogika OR\n",
    "print('[or]')\n",
    "print('x | y =', x | y)\n",
    "print(format(x,'08b'),'|', format(y,'08b'),'=', format(x | y, '08b'))\n",
    "\n",
    "#operatorlogika NOT\n",
    "print('[not]')\n",
    "print('~x ~y =', ~x, ~y)\n",
    "print('~' + format(x,'08b'),'~' + format(~x,'08b'),'=', format(~y, '08b'))\n",
    "\n"
   ]
  },
  {
   "cell_type": "code",
   "execution_count": null,
   "id": "76bcd689",
   "metadata": {},
   "outputs": [],
   "source": []
  }
 ],
 "metadata": {
  "kernelspec": {
   "display_name": "Python 3 (ipykernel)",
   "language": "python",
   "name": "python3"
  },
  "language_info": {
   "codemirror_mode": {
    "name": "ipython",
    "version": 3
   },
   "file_extension": ".py",
   "mimetype": "text/x-python",
   "name": "python",
   "nbconvert_exporter": "python",
   "pygments_lexer": "ipython3",
   "version": "3.9.12"
  }
 },
 "nbformat": 4,
 "nbformat_minor": 5
}
